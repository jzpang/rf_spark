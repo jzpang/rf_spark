{
 "cells": [
  {
   "cell_type": "code",
   "execution_count": 1,
   "metadata": {
    "collapsed": true
   },
   "outputs": [],
   "source": [
    "import pyspark\n",
    "import numpy as np\n",
    "\n",
    "from pyspark import SparkContext\n",
    "from pyspark import SQLContext\n",
    "\n",
    "from pyspark.ml import Pipeline\n",
    "from pyspark.ml.regression import RandomForestRegressor\n",
    "from pyspark.ml.feature import VectorIndexer\n",
    "from pyspark.ml.evaluation import RegressionEvaluator"
   ]
  },
  {
   "cell_type": "code",
   "execution_count": 2,
   "metadata": {
    "collapsed": false
   },
   "outputs": [],
   "source": [
    "sc = SparkContext()\n",
    "sqlContext = SQLContext(sc)\n"
   ]
  },
  {
   "cell_type": "code",
   "execution_count": 3,
   "metadata": {
    "collapsed": false
   },
   "outputs": [],
   "source": []
  },
  {
   "cell_type": "code",
   "execution_count": 4,
   "metadata": {
    "collapsed": false
   },
   "outputs": [],
   "source": [
    "#read data\n",
    "df = sqlContext.read.load('abalone.data.txt', \n",
    "                          format='com.databricks.spark.csv', \n",
    "                          header='false', \n",
    "                          inferSchema='true')"
   ]
  },
  {
   "cell_type": "code",
   "execution_count": 5,
   "metadata": {
    "collapsed": false
   },
   "outputs": [
    {
     "name": "stdout",
     "output_type": "stream",
     "text": [
      "root\n",
      " |-- Sex: string (nullable = true)\n",
      " |-- Length: double (nullable = true)\n",
      " |-- Diameter: double (nullable = true)\n",
      " |-- Height: double (nullable = true)\n",
      " |-- Whole weight: double (nullable = true)\n",
      " |-- Shucked weight: double (nullable = true)\n",
      " |-- Viscera weight: double (nullable = true)\n",
      " |-- Shell weight: double (nullable = true)\n",
      " |-- Rings: integer (nullable = true)\n",
      "\n",
      "+---+------+--------+------+------------+--------------+--------------+------------+-----+\n",
      "|Sex|Length|Diameter|Height|Whole weight|Shucked weight|Viscera weight|Shell weight|Rings|\n",
      "+---+------+--------+------+------------+--------------+--------------+------------+-----+\n",
      "|  M| 0.455|   0.365| 0.095|       0.514|        0.2245|         0.101|        0.15|   15|\n",
      "|  M|  0.35|   0.265|  0.09|      0.2255|        0.0995|        0.0485|        0.07|    7|\n",
      "|  F|  0.53|    0.42| 0.135|       0.677|        0.2565|        0.1415|        0.21|    9|\n",
      "|  M|  0.44|   0.365| 0.125|       0.516|        0.2155|         0.114|       0.155|   10|\n",
      "|  I|  0.33|   0.255|  0.08|       0.205|        0.0895|        0.0395|       0.055|    7|\n",
      "|  I| 0.425|     0.3| 0.095|      0.3515|         0.141|        0.0775|        0.12|    8|\n",
      "|  F|  0.53|   0.415|  0.15|      0.7775|         0.237|        0.1415|        0.33|   20|\n",
      "|  F| 0.545|   0.425| 0.125|       0.768|         0.294|        0.1495|        0.26|   16|\n",
      "|  M| 0.475|    0.37| 0.125|      0.5095|        0.2165|        0.1125|       0.165|    9|\n",
      "|  F|  0.55|    0.44|  0.15|      0.8945|        0.3145|         0.151|        0.32|   19|\n",
      "|  F| 0.525|    0.38|  0.14|      0.6065|         0.194|        0.1475|        0.21|   14|\n",
      "|  M|  0.43|    0.35|  0.11|       0.406|        0.1675|         0.081|       0.135|   10|\n",
      "|  M|  0.49|    0.38| 0.135|      0.5415|        0.2175|         0.095|        0.19|   11|\n",
      "|  F| 0.535|   0.405| 0.145|      0.6845|        0.2725|         0.171|       0.205|   10|\n",
      "|  F|  0.47|   0.355|   0.1|      0.4755|        0.1675|        0.0805|       0.185|   10|\n",
      "|  M|   0.5|     0.4|  0.13|      0.6645|         0.258|         0.133|        0.24|   12|\n",
      "|  I| 0.355|    0.28| 0.085|      0.2905|         0.095|        0.0395|       0.115|    7|\n",
      "|  F|  0.44|    0.34|   0.1|       0.451|         0.188|         0.087|        0.13|   10|\n",
      "|  M| 0.365|   0.295|  0.08|      0.2555|         0.097|         0.043|         0.1|    7|\n",
      "|  M|  0.45|    0.32|   0.1|       0.381|        0.1705|         0.075|       0.115|    9|\n",
      "+---+------+--------+------+------------+--------------+--------------+------------+-----+\n",
      "only showing top 20 rows\n",
      "\n"
     ]
    }
   ],
   "source": [
    "#set headers\n",
    "oldColumns = df.schema.names\n",
    "newColumns = ['Sex','Length', 'Diameter','Height','Whole weight','Shucked weight','Viscera weight','Shell weight','Rings']\n",
    "\n",
    "df = reduce(lambda df, idx: df.withColumnRenamed(oldColumns[idx], newColumns[idx]), xrange(len(oldColumns)), df)\n",
    "df.printSchema()\n",
    "df.show()\n"
   ]
  },
  {
   "cell_type": "code",
   "execution_count": null,
   "metadata": {
    "collapsed": false
   },
   "outputs": [],
   "source": []
  },
  {
   "cell_type": "code",
   "execution_count": 6,
   "metadata": {
    "collapsed": false
   },
   "outputs": [],
   "source": [
    "from pyspark.sql.functions import udf\n",
    "from pyspark.sql.types import IntegerType"
   ]
  },
  {
   "cell_type": "code",
   "execution_count": 7,
   "metadata": {
    "collapsed": false
   },
   "outputs": [],
   "source": [
    "# mapping string labels to numbers\n",
    "sex = df.select(\"Sex\").rdd.flatMap(lambda x: x).collect()\n",
    "mappingSex = {j:i for i,j in enumerate(np.unique(sex))}\n",
    "mapping = udf(lambda Sex: mappingSex.get(Sex), IntegerType())\n",
    "df = df.withColumn(\"Sex\", mapping(df.Sex))"
   ]
  },
  {
   "cell_type": "code",
   "execution_count": 8,
   "metadata": {
    "collapsed": false
   },
   "outputs": [
    {
     "name": "stdout",
     "output_type": "stream",
     "text": [
      "root\n",
      " |-- Sex: integer (nullable = true)\n",
      " |-- Length: double (nullable = true)\n",
      " |-- Diameter: double (nullable = true)\n",
      " |-- Height: double (nullable = true)\n",
      " |-- Whole weight: double (nullable = true)\n",
      " |-- Shucked weight: double (nullable = true)\n",
      " |-- Viscera weight: double (nullable = true)\n",
      " |-- Shell weight: double (nullable = true)\n",
      " |-- Rings: integer (nullable = true)\n",
      "\n",
      "+---+------+--------+------+------------+--------------+--------------+------------+-----+\n",
      "|Sex|Length|Diameter|Height|Whole weight|Shucked weight|Viscera weight|Shell weight|Rings|\n",
      "+---+------+--------+------+------------+--------------+--------------+------------+-----+\n",
      "|  2| 0.455|   0.365| 0.095|       0.514|        0.2245|         0.101|        0.15|   15|\n",
      "|  2|  0.35|   0.265|  0.09|      0.2255|        0.0995|        0.0485|        0.07|    7|\n",
      "|  0|  0.53|    0.42| 0.135|       0.677|        0.2565|        0.1415|        0.21|    9|\n",
      "|  2|  0.44|   0.365| 0.125|       0.516|        0.2155|         0.114|       0.155|   10|\n",
      "|  1|  0.33|   0.255|  0.08|       0.205|        0.0895|        0.0395|       0.055|    7|\n",
      "|  1| 0.425|     0.3| 0.095|      0.3515|         0.141|        0.0775|        0.12|    8|\n",
      "|  0|  0.53|   0.415|  0.15|      0.7775|         0.237|        0.1415|        0.33|   20|\n",
      "|  0| 0.545|   0.425| 0.125|       0.768|         0.294|        0.1495|        0.26|   16|\n",
      "|  2| 0.475|    0.37| 0.125|      0.5095|        0.2165|        0.1125|       0.165|    9|\n",
      "|  0|  0.55|    0.44|  0.15|      0.8945|        0.3145|         0.151|        0.32|   19|\n",
      "+---+------+--------+------+------------+--------------+--------------+------------+-----+\n",
      "only showing top 10 rows\n",
      "\n"
     ]
    }
   ],
   "source": [
    "df.printSchema()\n",
    "df.show(10)\n"
   ]
  },
  {
   "cell_type": "code",
   "execution_count": 9,
   "metadata": {
    "collapsed": false
   },
   "outputs": [],
   "source": [
    "from pyspark.ml.feature import VectorAssembler"
   ]
  },
  {
   "cell_type": "code",
   "execution_count": 10,
   "metadata": {
    "collapsed": false
   },
   "outputs": [
    {
     "data": {
      "text/plain": [
       "DataFrame[Sex: int, Length: double, Diameter: double, Height: double, Whole weight: double, Shucked weight: double, Viscera weight: double, Shell weight: double, Rings: int, features: vector]"
      ]
     },
     "execution_count": 10,
     "metadata": {},
     "output_type": "execute_result"
    }
   ],
   "source": [
    "#construct a feature vector as assembler\n",
    "assembler = VectorAssembler(\n",
    "    inputCols=[x for x in df.columns if x not in ['Rings']],\n",
    "    outputCol='features')\n",
    "\n",
    "assembler.transform(df)"
   ]
  },
  {
   "cell_type": "code",
   "execution_count": 11,
   "metadata": {
    "collapsed": false
   },
   "outputs": [
    {
     "data": {
      "text/plain": [
       "DataFrame[Sex: int, Length: double, Diameter: double, Height: double, Whole weight: double, Shucked weight: double, Viscera weight: double, Shell weight: double, Rings: int]"
      ]
     },
     "execution_count": 11,
     "metadata": {},
     "output_type": "execute_result"
    }
   ],
   "source": [
    "df"
   ]
  },
  {
   "cell_type": "code",
   "execution_count": 12,
   "metadata": {
    "collapsed": true
   },
   "outputs": [],
   "source": [
    "# Split the data into training and test sets (20% held out for testing)\n",
    "(trainingData, testData) = df.randomSplit([0.8, 0.2])"
   ]
  },
  {
   "cell_type": "code",
   "execution_count": 13,
   "metadata": {
    "collapsed": false
   },
   "outputs": [],
   "source": [
    "# Train a RandomForest model.\n",
    "rf1 = RandomForestRegressor(featuresCol=\"features\", labelCol=\"Rings\")\n"
   ]
  },
  {
   "cell_type": "code",
   "execution_count": 14,
   "metadata": {
    "collapsed": true
   },
   "outputs": [],
   "source": [
    "# Chain indexer and forest in a Pipeline\n",
    "pipeline1 = Pipeline(stages=[assembler, rf1])"
   ]
  },
  {
   "cell_type": "code",
   "execution_count": 15,
   "metadata": {
    "collapsed": false
   },
   "outputs": [],
   "source": [
    "# Train model.  This also runs the indexer.\n",
    "model1 = pipeline1.fit(trainingData)"
   ]
  },
  {
   "cell_type": "code",
   "execution_count": 16,
   "metadata": {
    "collapsed": true
   },
   "outputs": [],
   "source": [
    "# Make predictions.\n",
    "predictions1 = model1.transform(testData)"
   ]
  },
  {
   "cell_type": "code",
   "execution_count": 17,
   "metadata": {
    "collapsed": false
   },
   "outputs": [
    {
     "name": "stdout",
     "output_type": "stream",
     "text": [
      "+-----------------+-----+--------------------+\n",
      "|       prediction|Rings|            features|\n",
      "+-----------------+-----+--------------------+\n",
      "|5.205824341982557|    5|[0.0,0.275,0.195,...|\n",
      "|6.558412515328068|    6|[0.0,0.335,0.22,0...|\n",
      "|7.200615279765475|    9|[0.0,0.345,0.255,...|\n",
      "|7.497625729847648|   10|[0.0,0.35,0.275,0...|\n",
      "| 7.31755916909393|    8|[0.0,0.36,0.265,0...|\n",
      "|7.567988534610538|   10|[0.0,0.36,0.265,0...|\n",
      "| 8.42847347324996|    7|[0.0,0.375,0.295,...|\n",
      "| 7.84430938483155|    8|[0.0,0.38,0.305,0...|\n",
      "|8.645993349120971|   10|[0.0,0.38,0.325,0...|\n",
      "| 8.55664838727922|    7|[0.0,0.385,0.305,...|\n",
      "+-----------------+-----+--------------------+\n",
      "only showing top 10 rows\n",
      "\n"
     ]
    }
   ],
   "source": [
    "# Select example rows to display.\n",
    "predictions1.select(\"prediction\", \"Rings\", \"features\").show(10)"
   ]
  },
  {
   "cell_type": "code",
   "execution_count": 18,
   "metadata": {
    "collapsed": false
   },
   "outputs": [
    {
     "name": "stdout",
     "output_type": "stream",
     "text": [
      "Root Mean Squared Error (RMSE) on test data = 2.18156\n"
     ]
    }
   ],
   "source": [
    "# Select (prediction, true label) and compute test error\n",
    "evaluator1 = RegressionEvaluator(\n",
    "    labelCol=\"Rings\", predictionCol=\"prediction\", metricName=\"rmse\")\n",
    "rmse = evaluator1.evaluate(predictions1)\n",
    "print(\"Root Mean Squared Error (RMSE) on test data = %g\" % rmse)"
   ]
  },
  {
   "cell_type": "code",
   "execution_count": 19,
   "metadata": {
    "collapsed": false
   },
   "outputs": [
    {
     "name": "stdout",
     "output_type": "stream",
     "text": [
      "Mean Squared Error (MSE) on test data = 4.75919\n"
     ]
    }
   ],
   "source": [
    "evaluator2 = RegressionEvaluator(\n",
    "    labelCol=\"Rings\", predictionCol=\"prediction\", metricName=\"mse\")\n",
    "mse = evaluator2.evaluate(predictions1)\n",
    "print(\"Mean Squared Error (MSE) on test data = %g\" % mse)"
   ]
  },
  {
   "cell_type": "code",
   "execution_count": 20,
   "metadata": {
    "collapsed": false
   },
   "outputs": [
    {
     "name": "stdout",
     "output_type": "stream",
     "text": [
      "R^2 on test data = 0.537818\n"
     ]
    }
   ],
   "source": [
    "evaluator3 = RegressionEvaluator(\n",
    "    labelCol=\"Rings\", predictionCol=\"prediction\", metricName=\"r2\")\n",
    "r2 = evaluator3.evaluate(predictions1)\n",
    "print(\"R^2 on test data = %g\" % r2)"
   ]
  },
  {
   "cell_type": "code",
   "execution_count": 21,
   "metadata": {
    "collapsed": false
   },
   "outputs": [
    {
     "name": "stdout",
     "output_type": "stream",
     "text": [
      "Mean Absolute Error (MAE) on test data = 1.54974\n"
     ]
    }
   ],
   "source": [
    "evaluator4 = RegressionEvaluator(\n",
    "    labelCol=\"Rings\", predictionCol=\"prediction\", metricName=\"mae\")\n",
    "mae = evaluator4.evaluate(predictions1)\n",
    "print(\"Mean Absolute Error (MAE) on test data = %g\" % mae)"
   ]
  },
  {
   "cell_type": "code",
   "execution_count": 22,
   "metadata": {
    "collapsed": false
   },
   "outputs": [
    {
     "name": "stdout",
     "output_type": "stream",
     "text": [
      "RandomForestRegressionModel (uid=rfr_f0051394a247) with 20 trees\n"
     ]
    }
   ],
   "source": [
    "rfModel1 = model1.stages[1]\n",
    "print(rfModel1)"
   ]
  },
  {
   "cell_type": "code",
   "execution_count": null,
   "metadata": {
    "collapsed": true
   },
   "outputs": [],
   "source": []
  },
  {
   "cell_type": "code",
   "execution_count": 23,
   "metadata": {
    "collapsed": true
   },
   "outputs": [],
   "source": [
    "from pyspark.ml.classification import RandomForestClassifier\n",
    "from pyspark.ml.feature import IndexToString, StringIndexer, VectorIndexer\n",
    "from pyspark.ml.evaluation import MulticlassClassificationEvaluator"
   ]
  },
  {
   "cell_type": "code",
   "execution_count": 24,
   "metadata": {
    "collapsed": true
   },
   "outputs": [],
   "source": [
    "# Index labels, adding metadata to the label column.\n",
    "# Fit on whole dataset to include all labels in index.\n",
    "labelIndexer= StringIndexer(inputCol=\"Rings\", outputCol=\"label\").fit(df)"
   ]
  },
  {
   "cell_type": "code",
   "execution_count": 25,
   "metadata": {
    "collapsed": false
   },
   "outputs": [
    {
     "data": {
      "text/plain": [
       "StringIndexer_4ec2a2b2d6ec4de669ee"
      ]
     },
     "execution_count": 25,
     "metadata": {},
     "output_type": "execute_result"
    }
   ],
   "source": [
    "labelIndexer"
   ]
  },
  {
   "cell_type": "code",
   "execution_count": 26,
   "metadata": {
    "collapsed": false
   },
   "outputs": [],
   "source": [
    "# Train a RandomForest model.\n",
    "rf2 = RandomForestClassifier(labelCol=\"label\", featuresCol=\"features\", numTrees=20)"
   ]
  },
  {
   "cell_type": "code",
   "execution_count": 27,
   "metadata": {
    "collapsed": false
   },
   "outputs": [],
   "source": [
    "# Convert indexed labels back to original labels.\n",
    "labelConverter = IndexToString(inputCol=\"prediction\", outputCol=\"predictedLabel\",\n",
    "                               labels=labelIndexer.labels)\n"
   ]
  },
  {
   "cell_type": "code",
   "execution_count": 28,
   "metadata": {
    "collapsed": true
   },
   "outputs": [],
   "source": [
    "# Chain indexers and forest in a Pipeline\n",
    "pipeline2 = Pipeline(stages=[labelIndexer, assembler, rf2, labelConverter])"
   ]
  },
  {
   "cell_type": "code",
   "execution_count": 29,
   "metadata": {
    "collapsed": true
   },
   "outputs": [],
   "source": [
    "# Train model.  This also runs the indexers.\n",
    "model2 = pipeline2.fit(trainingData)"
   ]
  },
  {
   "cell_type": "code",
   "execution_count": 30,
   "metadata": {
    "collapsed": true
   },
   "outputs": [],
   "source": [
    "# Make predictions.\n",
    "predictions2 = model2.transform(testData)"
   ]
  },
  {
   "cell_type": "code",
   "execution_count": 31,
   "metadata": {
    "collapsed": false
   },
   "outputs": [
    {
     "name": "stdout",
     "output_type": "stream",
     "text": [
      "+--------------+-----+--------------------+\n",
      "|predictedLabel|Rings|            features|\n",
      "+--------------+-----+--------------------+\n",
      "|             5|    5|[0.0,0.275,0.195,...|\n",
      "|             6|    6|[0.0,0.335,0.22,0...|\n",
      "|             7|    9|[0.0,0.345,0.255,...|\n",
      "|             6|   10|[0.0,0.35,0.275,0...|\n",
      "|             6|    8|[0.0,0.36,0.265,0...|\n",
      "|             7|   10|[0.0,0.36,0.265,0...|\n",
      "|             7|    7|[0.0,0.375,0.295,...|\n",
      "|             7|    8|[0.0,0.38,0.305,0...|\n",
      "|             7|   10|[0.0,0.38,0.325,0...|\n",
      "|             7|    7|[0.0,0.385,0.305,...|\n",
      "+--------------+-----+--------------------+\n",
      "only showing top 10 rows\n",
      "\n"
     ]
    }
   ],
   "source": [
    "# Select example rows to display.\n",
    "predictions2.select(\"predictedLabel\", \"Rings\", \"features\").show(10)"
   ]
  },
  {
   "cell_type": "code",
   "execution_count": 32,
   "metadata": {
    "collapsed": false
   },
   "outputs": [
    {
     "name": "stdout",
     "output_type": "stream",
     "text": [
      "Accuracy = 0.265455\n"
     ]
    }
   ],
   "source": [
    "# Select (prediction, true label) and compute accuracy\n",
    "evaluator_cl1 = MulticlassClassificationEvaluator(\n",
    "    labelCol=\"label\", predictionCol=\"prediction\", metricName=\"accuracy\")\n",
    "accuracy = evaluator_cl1.evaluate(predictions2)\n",
    "print(\"Accuracy = %g\" % (accuracy))"
   ]
  },
  {
   "cell_type": "code",
   "execution_count": 33,
   "metadata": {
    "collapsed": false
   },
   "outputs": [
    {
     "name": "stdout",
     "output_type": "stream",
     "text": [
      "Weighted Precision = 0.233744\n"
     ]
    }
   ],
   "source": [
    "# Select (prediction, true label) and compute weighted precision\n",
    "evaluator_cl2 = MulticlassClassificationEvaluator(\n",
    "    labelCol=\"label\", predictionCol=\"prediction\", metricName=\"weightedPrecision\")\n",
    "wp = evaluator_cl2.evaluate(predictions2)\n",
    "print(\"Weighted Precision = %g\" % (wp))"
   ]
  },
  {
   "cell_type": "code",
   "execution_count": 34,
   "metadata": {
    "collapsed": false
   },
   "outputs": [
    {
     "name": "stdout",
     "output_type": "stream",
     "text": [
      "Weighted Recall = 0.265455\n"
     ]
    }
   ],
   "source": [
    "# Select (prediction, true label) and compute weighted recall\n",
    "evaluator_cl3 = MulticlassClassificationEvaluator(\n",
    "    labelCol=\"label\", predictionCol=\"prediction\", metricName=\"weightedRecall\")\n",
    "wc = evaluator_cl3.evaluate(predictions2)\n",
    "print(\"Weighted Recall = %g\" % (wc))"
   ]
  },
  {
   "cell_type": "code",
   "execution_count": 35,
   "metadata": {
    "collapsed": false
   },
   "outputs": [
    {
     "name": "stdout",
     "output_type": "stream",
     "text": [
      "f1 = 0.265455\n"
     ]
    }
   ],
   "source": [
    "# Select (prediction, true label) and compute f1 score\n",
    "evaluator_cl4 = MulticlassClassificationEvaluator(\n",
    "    labelCol=\"label\", predictionCol=\"prediction\", metricName=\"f1\")\n",
    "f1= evaluator_cl3.evaluate(predictions2)\n",
    "print(\"f1 = %g\" % (f1))"
   ]
  }
 ],
 "metadata": {
  "kernelspec": {
   "display_name": "Python 2",
   "language": "python",
   "name": "python2"
  },
  "language_info": {
   "codemirror_mode": {
    "name": "ipython",
    "version": 2
   },
   "file_extension": ".py",
   "mimetype": "text/x-python",
   "name": "python",
   "nbconvert_exporter": "python",
   "pygments_lexer": "ipython2",
   "version": "2.7.13"
  }
 },
 "nbformat": 4,
 "nbformat_minor": 2
}
